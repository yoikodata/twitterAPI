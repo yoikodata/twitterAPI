{
 "cells": [
  {
   "cell_type": "markdown",
   "id": "4a842f6d",
   "metadata": {},
   "source": [
    "<h2>Twitter API Sentiment Analysis Project</h2>\n",
    "<h3>Using ROBERTA ML model</h3>"
   ]
  },
  {
   "cell_type": "code",
   "execution_count": 1,
   "id": "0c70ec9f",
   "metadata": {},
   "outputs": [],
   "source": [
    "import tweepy\n",
    "import pandas as pd\n",
    "import numpy as np"
   ]
  },
  {
   "cell_type": "code",
   "execution_count": 2,
   "id": "0d0cc3a6",
   "metadata": {},
   "outputs": [],
   "source": [
    "consumer_key = \"your_consumer_key\"\n",
    "consumer_secret = \"your_consumer_secret\"\n",
    "access_token = \"your_access_token\"\n",
    "access_token_secret = \"your_access_token_secret\""
   ]
  },
  {
   "cell_type": "code",
   "execution_count": 3,
   "id": "4b309182",
   "metadata": {},
   "outputs": [],
   "source": [
    "auth = tweepy.OAuthHandler(consumer_key, consumer_secret)\n",
    "auth.set_access_token(access_token, access_token_secret)\n",
    "api = tweepy.API(auth)"
   ]
  },
  {
   "cell_type": "code",
   "execution_count": 4,
   "id": "c256dc49",
   "metadata": {},
   "outputs": [],
   "source": [
    "cursor = tweepy.Cursor(api.user_timeline, user_id='IkoTumangan', tweet_mode=\"extended\").items(1)"
   ]
  },
  {
   "cell_type": "code",
   "execution_count": 5,
   "id": "3f4e5a75",
   "metadata": {},
   "outputs": [
    {
     "name": "stdout",
     "output_type": "stream",
     "text": [
      "Status(_api=<tweepy.api.API object at 0x000001401D43EE80>, _json={'created_at': 'Sat Jul 02 13:27:09 +0000 2022', 'id': 1543224760674488320, 'id_str': '1543224760674488320', 'full_text': 'Cutting out the Monsters today, apparently sucralose and artificial sugars are culprits for neurological problems. Yikes 😳', 'truncated': False, 'display_text_range': [0, 122], 'entities': {'hashtags': [], 'symbols': [], 'user_mentions': [], 'urls': []}, 'source': '<a href=\"http://twitter.com/download/iphone\" rel=\"nofollow\">Twitter for iPhone</a>', 'in_reply_to_status_id': None, 'in_reply_to_status_id_str': None, 'in_reply_to_user_id': None, 'in_reply_to_user_id_str': None, 'in_reply_to_screen_name': None, 'user': {'id': 1526751943804198912, 'id_str': '1526751943804198912', 'name': 'yoiiikotu', 'screen_name': 'IkoTumangan', 'location': 'Irving, Texas', 'description': 'Just a man on a mission… 👾 #data #consulting', 'url': 'https://t.co/L53qDJTwRz', 'entities': {'url': {'urls': [{'url': 'https://t.co/L53qDJTwRz', 'expanded_url': 'https://linktr.ee/yoikotumangan', 'display_url': 'linktr.ee/yoikotumangan', 'indices': [0, 23]}]}, 'description': {'urls': []}}, 'protected': False, 'followers_count': 12, 'friends_count': 56, 'listed_count': 0, 'created_at': 'Wed May 18 02:30:13 +0000 2022', 'favourites_count': 891, 'utc_offset': None, 'time_zone': None, 'geo_enabled': False, 'verified': False, 'statuses_count': 126, 'lang': None, 'contributors_enabled': False, 'is_translator': False, 'is_translation_enabled': False, 'profile_background_color': 'F5F8FA', 'profile_background_image_url': None, 'profile_background_image_url_https': None, 'profile_background_tile': False, 'profile_image_url': 'http://pbs.twimg.com/profile_images/1536539469519765510/MKTQkeQb_normal.jpg', 'profile_image_url_https': 'https://pbs.twimg.com/profile_images/1536539469519765510/MKTQkeQb_normal.jpg', 'profile_banner_url': 'https://pbs.twimg.com/profile_banners/1526751943804198912/1653273770', 'profile_link_color': '1DA1F2', 'profile_sidebar_border_color': 'C0DEED', 'profile_sidebar_fill_color': 'DDEEF6', 'profile_text_color': '333333', 'profile_use_background_image': True, 'has_extended_profile': True, 'default_profile': True, 'default_profile_image': False, 'following': False, 'follow_request_sent': False, 'notifications': False, 'translator_type': 'none', 'withheld_in_countries': []}, 'geo': None, 'coordinates': None, 'place': None, 'contributors': None, 'is_quote_status': False, 'retweet_count': 0, 'favorite_count': 0, 'favorited': False, 'retweeted': False, 'lang': 'en'}, created_at=datetime.datetime(2022, 7, 2, 13, 27, 9, tzinfo=datetime.timezone.utc), id=1543224760674488320, id_str='1543224760674488320', full_text='Cutting out the Monsters today, apparently sucralose and artificial sugars are culprits for neurological problems. Yikes 😳', truncated=False, display_text_range=[0, 122], entities={'hashtags': [], 'symbols': [], 'user_mentions': [], 'urls': []}, source='Twitter for iPhone', source_url='http://twitter.com/download/iphone', in_reply_to_status_id=None, in_reply_to_status_id_str=None, in_reply_to_user_id=None, in_reply_to_user_id_str=None, in_reply_to_screen_name=None, author=User(_api=<tweepy.api.API object at 0x000001401D43EE80>, _json={'id': 1526751943804198912, 'id_str': '1526751943804198912', 'name': 'yoiiikotu', 'screen_name': 'IkoTumangan', 'location': 'Irving, Texas', 'description': 'Just a man on a mission… 👾 #data #consulting', 'url': 'https://t.co/L53qDJTwRz', 'entities': {'url': {'urls': [{'url': 'https://t.co/L53qDJTwRz', 'expanded_url': 'https://linktr.ee/yoikotumangan', 'display_url': 'linktr.ee/yoikotumangan', 'indices': [0, 23]}]}, 'description': {'urls': []}}, 'protected': False, 'followers_count': 12, 'friends_count': 56, 'listed_count': 0, 'created_at': 'Wed May 18 02:30:13 +0000 2022', 'favourites_count': 891, 'utc_offset': None, 'time_zone': None, 'geo_enabled': False, 'verified': False, 'statuses_count': 126, 'lang': None, 'contributors_enabled': False, 'is_translator': False, 'is_translation_enabled': False, 'profile_background_color': 'F5F8FA', 'profile_background_image_url': None, 'profile_background_image_url_https': None, 'profile_background_tile': False, 'profile_image_url': 'http://pbs.twimg.com/profile_images/1536539469519765510/MKTQkeQb_normal.jpg', 'profile_image_url_https': 'https://pbs.twimg.com/profile_images/1536539469519765510/MKTQkeQb_normal.jpg', 'profile_banner_url': 'https://pbs.twimg.com/profile_banners/1526751943804198912/1653273770', 'profile_link_color': '1DA1F2', 'profile_sidebar_border_color': 'C0DEED', 'profile_sidebar_fill_color': 'DDEEF6', 'profile_text_color': '333333', 'profile_use_background_image': True, 'has_extended_profile': True, 'default_profile': True, 'default_profile_image': False, 'following': False, 'follow_request_sent': False, 'notifications': False, 'translator_type': 'none', 'withheld_in_countries': []}, id=1526751943804198912, id_str='1526751943804198912', name='yoiiikotu', screen_name='IkoTumangan', location='Irving, Texas', description='Just a man on a mission… 👾 #data #consulting', url='https://t.co/L53qDJTwRz', entities={'url': {'urls': [{'url': 'https://t.co/L53qDJTwRz', 'expanded_url': 'https://linktr.ee/yoikotumangan', 'display_url': 'linktr.ee/yoikotumangan', 'indices': [0, 23]}]}, 'description': {'urls': []}}, protected=False, followers_count=12, friends_count=56, listed_count=0, created_at=datetime.datetime(2022, 5, 18, 2, 30, 13, tzinfo=datetime.timezone.utc), favourites_count=891, utc_offset=None, time_zone=None, geo_enabled=False, verified=False, statuses_count=126, lang=None, contributors_enabled=False, is_translator=False, is_translation_enabled=False, profile_background_color='F5F8FA', profile_background_image_url=None, profile_background_image_url_https=None, profile_background_tile=False, profile_image_url='http://pbs.twimg.com/profile_images/1536539469519765510/MKTQkeQb_normal.jpg', profile_image_url_https='https://pbs.twimg.com/profile_images/1536539469519765510/MKTQkeQb_normal.jpg', profile_banner_url='https://pbs.twimg.com/profile_banners/1526751943804198912/1653273770', profile_link_color='1DA1F2', profile_sidebar_border_color='C0DEED', profile_sidebar_fill_color='DDEEF6', profile_text_color='333333', profile_use_background_image=True, has_extended_profile=True, default_profile=True, default_profile_image=False, following=False, follow_request_sent=False, notifications=False, translator_type='none', withheld_in_countries=[]), user=User(_api=<tweepy.api.API object at 0x000001401D43EE80>, _json={'id': 1526751943804198912, 'id_str': '1526751943804198912', 'name': 'yoiiikotu', 'screen_name': 'IkoTumangan', 'location': 'Irving, Texas', 'description': 'Just a man on a mission… 👾 #data #consulting', 'url': 'https://t.co/L53qDJTwRz', 'entities': {'url': {'urls': [{'url': 'https://t.co/L53qDJTwRz', 'expanded_url': 'https://linktr.ee/yoikotumangan', 'display_url': 'linktr.ee/yoikotumangan', 'indices': [0, 23]}]}, 'description': {'urls': []}}, 'protected': False, 'followers_count': 12, 'friends_count': 56, 'listed_count': 0, 'created_at': 'Wed May 18 02:30:13 +0000 2022', 'favourites_count': 891, 'utc_offset': None, 'time_zone': None, 'geo_enabled': False, 'verified': False, 'statuses_count': 126, 'lang': None, 'contributors_enabled': False, 'is_translator': False, 'is_translation_enabled': False, 'profile_background_color': 'F5F8FA', 'profile_background_image_url': None, 'profile_background_image_url_https': None, 'profile_background_tile': False, 'profile_image_url': 'http://pbs.twimg.com/profile_images/1536539469519765510/MKTQkeQb_normal.jpg', 'profile_image_url_https': 'https://pbs.twimg.com/profile_images/1536539469519765510/MKTQkeQb_normal.jpg', 'profile_banner_url': 'https://pbs.twimg.com/profile_banners/1526751943804198912/1653273770', 'profile_link_color': '1DA1F2', 'profile_sidebar_border_color': 'C0DEED', 'profile_sidebar_fill_color': 'DDEEF6', 'profile_text_color': '333333', 'profile_use_background_image': True, 'has_extended_profile': True, 'default_profile': True, 'default_profile_image': False, 'following': False, 'follow_request_sent': False, 'notifications': False, 'translator_type': 'none', 'withheld_in_countries': []}, id=1526751943804198912, id_str='1526751943804198912', name='yoiiikotu', screen_name='IkoTumangan', location='Irving, Texas', description='Just a man on a mission… 👾 #data #consulting', url='https://t.co/L53qDJTwRz', entities={'url': {'urls': [{'url': 'https://t.co/L53qDJTwRz', 'expanded_url': 'https://linktr.ee/yoikotumangan', 'display_url': 'linktr.ee/yoikotumangan', 'indices': [0, 23]}]}, 'description': {'urls': []}}, protected=False, followers_count=12, friends_count=56, listed_count=0, created_at=datetime.datetime(2022, 5, 18, 2, 30, 13, tzinfo=datetime.timezone.utc), favourites_count=891, utc_offset=None, time_zone=None, geo_enabled=False, verified=False, statuses_count=126, lang=None, contributors_enabled=False, is_translator=False, is_translation_enabled=False, profile_background_color='F5F8FA', profile_background_image_url=None, profile_background_image_url_https=None, profile_background_tile=False, profile_image_url='http://pbs.twimg.com/profile_images/1536539469519765510/MKTQkeQb_normal.jpg', profile_image_url_https='https://pbs.twimg.com/profile_images/1536539469519765510/MKTQkeQb_normal.jpg', profile_banner_url='https://pbs.twimg.com/profile_banners/1526751943804198912/1653273770', profile_link_color='1DA1F2', profile_sidebar_border_color='C0DEED', profile_sidebar_fill_color='DDEEF6', profile_text_color='333333', profile_use_background_image=True, has_extended_profile=True, default_profile=True, default_profile_image=False, following=False, follow_request_sent=False, notifications=False, translator_type='none', withheld_in_countries=[]), geo=None, coordinates=None, place=None, contributors=None, is_quote_status=False, retweet_count=0, favorite_count=0, favorited=False, retweeted=False, lang='en')\n"
     ]
    }
   ],
   "source": [
    "#all of the data in the tweet\n",
    "for i in cursor:\n",
    "    print(i)"
   ]
  },
  {
   "cell_type": "code",
   "execution_count": 6,
   "id": "ff69a995",
   "metadata": {},
   "outputs": [],
   "source": [
    "#getting the columns or info about what the data is. getting the field names \n",
    "for i in cursor:\n",
    "    print(dir(i))"
   ]
  },
  {
   "cell_type": "code",
   "execution_count": 7,
   "id": "a7f56a7c",
   "metadata": {},
   "outputs": [],
   "source": [
    "#getting the full text from the tweet\n",
    "for i in cursor:\n",
    "    print(i.full_text)"
   ]
  },
  {
   "cell_type": "code",
   "execution_count": 8,
   "id": "8552a0d9",
   "metadata": {},
   "outputs": [
    {
     "name": "stdout",
     "output_type": "stream",
     "text": [
      "RT @BitcoinMagazine: Banks are closed until Tuesday.\n",
      "\n",
      "#Bitcoin never takes holidays off.\n"
     ]
    }
   ],
   "source": [
    "#Keyword Search using the hashtag Bitcoin\n",
    "cursor = tweepy.Cursor(api.search_tweets, q='Bitcoin', tweet_mode=\"extended\").items(1)\n",
    "\n",
    "for i in cursor:\n",
    "    tweet = i.full_text\n",
    "    \n",
    "print(tweet)"
   ]
  },
  {
   "cell_type": "code",
   "execution_count": 9,
   "id": "746bffe9",
   "metadata": {},
   "outputs": [],
   "source": [
    "number_of_tweets = 200\n",
    "tweets = []\n",
    "likes = []\n",
    "time = []\n",
    "\n",
    "curs = tweepy.Cursor(api.user_timeline, screen_name=\"IkoTumangan\", tweet_mode=\"extended\").items(number_of_tweets)\n",
    "\n",
    "for w in curs:\n",
    "    tweets.append(w.full_text)\n",
    "    likes.append(w.favorite_count)\n",
    "    time.append(w.created_at)"
   ]
  },
  {
   "cell_type": "code",
   "execution_count": 10,
   "id": "e1f6aff2",
   "metadata": {},
   "outputs": [],
   "source": [
    "df = pd.DataFrame({'tweets':tweets, 'likes':likes, 'time':time})"
   ]
  },
  {
   "cell_type": "code",
   "execution_count": 11,
   "id": "a870ecc8",
   "metadata": {},
   "outputs": [
    {
     "data": {
      "text/html": [
       "<div>\n",
       "<style scoped>\n",
       "    .dataframe tbody tr th:only-of-type {\n",
       "        vertical-align: middle;\n",
       "    }\n",
       "\n",
       "    .dataframe tbody tr th {\n",
       "        vertical-align: top;\n",
       "    }\n",
       "\n",
       "    .dataframe thead th {\n",
       "        text-align: right;\n",
       "    }\n",
       "</style>\n",
       "<table border=\"1\" class=\"dataframe\">\n",
       "  <thead>\n",
       "    <tr style=\"text-align: right;\">\n",
       "      <th></th>\n",
       "      <th>tweets</th>\n",
       "      <th>likes</th>\n",
       "      <th>time</th>\n",
       "    </tr>\n",
       "  </thead>\n",
       "  <tbody>\n",
       "    <tr>\n",
       "      <th>0</th>\n",
       "      <td>Cutting out the Monsters today, apparently suc...</td>\n",
       "      <td>0</td>\n",
       "      <td>2022-07-02 13:27:09+00:00</td>\n",
       "    </tr>\n",
       "    <tr>\n",
       "      <th>1</th>\n",
       "      <td>@peteswandering Why not</td>\n",
       "      <td>0</td>\n",
       "      <td>2022-07-02 03:45:34+00:00</td>\n",
       "    </tr>\n",
       "    <tr>\n",
       "      <th>2</th>\n",
       "      <td>@BUSHIDOBRYAN Most definitely lmk, let’s grab ...</td>\n",
       "      <td>0</td>\n",
       "      <td>2022-07-02 03:26:08+00:00</td>\n",
       "    </tr>\n",
       "    <tr>\n",
       "      <th>3</th>\n",
       "      <td>@BUSHIDOBRYAN 2 weekends ago, new best friend ...</td>\n",
       "      <td>0</td>\n",
       "      <td>2022-07-02 03:15:07+00:00</td>\n",
       "    </tr>\n",
       "    <tr>\n",
       "      <th>4</th>\n",
       "      <td>I_like_lists = [] https://t.co/f5Y3vJDDga</td>\n",
       "      <td>1</td>\n",
       "      <td>2022-07-02 01:50:31+00:00</td>\n",
       "    </tr>\n",
       "    <tr>\n",
       "      <th>...</th>\n",
       "      <td>...</td>\n",
       "      <td>...</td>\n",
       "      <td>...</td>\n",
       "    </tr>\n",
       "    <tr>\n",
       "      <th>121</th>\n",
       "      <td>@LilyInJapan Dating apps blooooooooow</td>\n",
       "      <td>0</td>\n",
       "      <td>2022-05-21 00:36:23+00:00</td>\n",
       "    </tr>\n",
       "    <tr>\n",
       "      <th>122</th>\n",
       "      <td>I might be crazy.. oh well, see y’all’s at the...</td>\n",
       "      <td>0</td>\n",
       "      <td>2022-05-21 00:08:12+00:00</td>\n",
       "    </tr>\n",
       "    <tr>\n",
       "      <th>123</th>\n",
       "      <td>Planning on doing a Twitter sentiment analysis...</td>\n",
       "      <td>0</td>\n",
       "      <td>2022-05-20 22:35:50+00:00</td>\n",
       "    </tr>\n",
       "    <tr>\n",
       "      <th>124</th>\n",
       "      <td>Has anyone used an ML algorithm to create sent...</td>\n",
       "      <td>0</td>\n",
       "      <td>2022-05-19 12:46:28+00:00</td>\n",
       "    </tr>\n",
       "    <tr>\n",
       "      <th>125</th>\n",
       "      <td>Subconsciously and consciously wanting to deto...</td>\n",
       "      <td>1</td>\n",
       "      <td>2022-05-18 12:44:34+00:00</td>\n",
       "    </tr>\n",
       "  </tbody>\n",
       "</table>\n",
       "<p>126 rows × 3 columns</p>\n",
       "</div>"
      ],
      "text/plain": [
       "                                                tweets  likes  \\\n",
       "0    Cutting out the Monsters today, apparently suc...      0   \n",
       "1                              @peteswandering Why not      0   \n",
       "2    @BUSHIDOBRYAN Most definitely lmk, let’s grab ...      0   \n",
       "3    @BUSHIDOBRYAN 2 weekends ago, new best friend ...      0   \n",
       "4            I_like_lists = [] https://t.co/f5Y3vJDDga      1   \n",
       "..                                                 ...    ...   \n",
       "121              @LilyInJapan Dating apps blooooooooow      0   \n",
       "122  I might be crazy.. oh well, see y’all’s at the...      0   \n",
       "123  Planning on doing a Twitter sentiment analysis...      0   \n",
       "124  Has anyone used an ML algorithm to create sent...      0   \n",
       "125  Subconsciously and consciously wanting to deto...      1   \n",
       "\n",
       "                         time  \n",
       "0   2022-07-02 13:27:09+00:00  \n",
       "1   2022-07-02 03:45:34+00:00  \n",
       "2   2022-07-02 03:26:08+00:00  \n",
       "3   2022-07-02 03:15:07+00:00  \n",
       "4   2022-07-02 01:50:31+00:00  \n",
       "..                        ...  \n",
       "121 2022-05-21 00:36:23+00:00  \n",
       "122 2022-05-21 00:08:12+00:00  \n",
       "123 2022-05-20 22:35:50+00:00  \n",
       "124 2022-05-19 12:46:28+00:00  \n",
       "125 2022-05-18 12:44:34+00:00  \n",
       "\n",
       "[126 rows x 3 columns]"
      ]
     },
     "execution_count": 11,
     "metadata": {},
     "output_type": "execute_result"
    }
   ],
   "source": [
    "df"
   ]
  },
  {
   "cell_type": "code",
   "execution_count": 12,
   "id": "fb0e4d22",
   "metadata": {},
   "outputs": [],
   "source": [
    "#Removing retweets\n",
    "df = df[~df.tweets.str.contains(\"RT\")]"
   ]
  },
  {
   "cell_type": "code",
   "execution_count": 13,
   "id": "d28baa84",
   "metadata": {},
   "outputs": [],
   "source": [
    "df = df.reset_index(drop=True)"
   ]
  },
  {
   "cell_type": "code",
   "execution_count": 14,
   "id": "5d5bc68a",
   "metadata": {},
   "outputs": [
    {
     "data": {
      "text/html": [
       "<div>\n",
       "<style scoped>\n",
       "    .dataframe tbody tr th:only-of-type {\n",
       "        vertical-align: middle;\n",
       "    }\n",
       "\n",
       "    .dataframe tbody tr th {\n",
       "        vertical-align: top;\n",
       "    }\n",
       "\n",
       "    .dataframe thead th {\n",
       "        text-align: right;\n",
       "    }\n",
       "</style>\n",
       "<table border=\"1\" class=\"dataframe\">\n",
       "  <thead>\n",
       "    <tr style=\"text-align: right;\">\n",
       "      <th></th>\n",
       "      <th>tweets</th>\n",
       "      <th>likes</th>\n",
       "      <th>time</th>\n",
       "    </tr>\n",
       "  </thead>\n",
       "  <tbody>\n",
       "    <tr>\n",
       "      <th>0</th>\n",
       "      <td>Cutting out the Monsters today, apparently suc...</td>\n",
       "      <td>0</td>\n",
       "      <td>2022-07-02 13:27:09+00:00</td>\n",
       "    </tr>\n",
       "    <tr>\n",
       "      <th>1</th>\n",
       "      <td>@peteswandering Why not</td>\n",
       "      <td>0</td>\n",
       "      <td>2022-07-02 03:45:34+00:00</td>\n",
       "    </tr>\n",
       "    <tr>\n",
       "      <th>2</th>\n",
       "      <td>@BUSHIDOBRYAN Most definitely lmk, let’s grab ...</td>\n",
       "      <td>0</td>\n",
       "      <td>2022-07-02 03:26:08+00:00</td>\n",
       "    </tr>\n",
       "    <tr>\n",
       "      <th>3</th>\n",
       "      <td>@BUSHIDOBRYAN 2 weekends ago, new best friend ...</td>\n",
       "      <td>0</td>\n",
       "      <td>2022-07-02 03:15:07+00:00</td>\n",
       "    </tr>\n",
       "    <tr>\n",
       "      <th>4</th>\n",
       "      <td>I_like_lists = [] https://t.co/f5Y3vJDDga</td>\n",
       "      <td>1</td>\n",
       "      <td>2022-07-02 01:50:31+00:00</td>\n",
       "    </tr>\n",
       "    <tr>\n",
       "      <th>...</th>\n",
       "      <td>...</td>\n",
       "      <td>...</td>\n",
       "      <td>...</td>\n",
       "    </tr>\n",
       "    <tr>\n",
       "      <th>117</th>\n",
       "      <td>@LilyInJapan Dating apps blooooooooow</td>\n",
       "      <td>0</td>\n",
       "      <td>2022-05-21 00:36:23+00:00</td>\n",
       "    </tr>\n",
       "    <tr>\n",
       "      <th>118</th>\n",
       "      <td>I might be crazy.. oh well, see y’all’s at the...</td>\n",
       "      <td>0</td>\n",
       "      <td>2022-05-21 00:08:12+00:00</td>\n",
       "    </tr>\n",
       "    <tr>\n",
       "      <th>119</th>\n",
       "      <td>Planning on doing a Twitter sentiment analysis...</td>\n",
       "      <td>0</td>\n",
       "      <td>2022-05-20 22:35:50+00:00</td>\n",
       "    </tr>\n",
       "    <tr>\n",
       "      <th>120</th>\n",
       "      <td>Has anyone used an ML algorithm to create sent...</td>\n",
       "      <td>0</td>\n",
       "      <td>2022-05-19 12:46:28+00:00</td>\n",
       "    </tr>\n",
       "    <tr>\n",
       "      <th>121</th>\n",
       "      <td>Subconsciously and consciously wanting to deto...</td>\n",
       "      <td>1</td>\n",
       "      <td>2022-05-18 12:44:34+00:00</td>\n",
       "    </tr>\n",
       "  </tbody>\n",
       "</table>\n",
       "<p>122 rows × 3 columns</p>\n",
       "</div>"
      ],
      "text/plain": [
       "                                                tweets  likes  \\\n",
       "0    Cutting out the Monsters today, apparently suc...      0   \n",
       "1                              @peteswandering Why not      0   \n",
       "2    @BUSHIDOBRYAN Most definitely lmk, let’s grab ...      0   \n",
       "3    @BUSHIDOBRYAN 2 weekends ago, new best friend ...      0   \n",
       "4            I_like_lists = [] https://t.co/f5Y3vJDDga      1   \n",
       "..                                                 ...    ...   \n",
       "117              @LilyInJapan Dating apps blooooooooow      0   \n",
       "118  I might be crazy.. oh well, see y’all’s at the...      0   \n",
       "119  Planning on doing a Twitter sentiment analysis...      0   \n",
       "120  Has anyone used an ML algorithm to create sent...      0   \n",
       "121  Subconsciously and consciously wanting to deto...      1   \n",
       "\n",
       "                         time  \n",
       "0   2022-07-02 13:27:09+00:00  \n",
       "1   2022-07-02 03:45:34+00:00  \n",
       "2   2022-07-02 03:26:08+00:00  \n",
       "3   2022-07-02 03:15:07+00:00  \n",
       "4   2022-07-02 01:50:31+00:00  \n",
       "..                        ...  \n",
       "117 2022-05-21 00:36:23+00:00  \n",
       "118 2022-05-21 00:08:12+00:00  \n",
       "119 2022-05-20 22:35:50+00:00  \n",
       "120 2022-05-19 12:46:28+00:00  \n",
       "121 2022-05-18 12:44:34+00:00  \n",
       "\n",
       "[122 rows x 3 columns]"
      ]
     },
     "execution_count": 14,
     "metadata": {},
     "output_type": "execute_result"
    }
   ],
   "source": [
    "df"
   ]
  },
  {
   "cell_type": "code",
   "execution_count": 15,
   "id": "f00a38ee",
   "metadata": {},
   "outputs": [],
   "source": [
    "mostlikes = df.loc[df.likes.nlargest(5).index]"
   ]
  },
  {
   "cell_type": "code",
   "execution_count": 16,
   "id": "4a06512a",
   "metadata": {},
   "outputs": [
    {
     "data": {
      "text/html": [
       "<div>\n",
       "<style scoped>\n",
       "    .dataframe tbody tr th:only-of-type {\n",
       "        vertical-align: middle;\n",
       "    }\n",
       "\n",
       "    .dataframe tbody tr th {\n",
       "        vertical-align: top;\n",
       "    }\n",
       "\n",
       "    .dataframe thead th {\n",
       "        text-align: right;\n",
       "    }\n",
       "</style>\n",
       "<table border=\"1\" class=\"dataframe\">\n",
       "  <thead>\n",
       "    <tr style=\"text-align: right;\">\n",
       "      <th></th>\n",
       "      <th>tweets</th>\n",
       "      <th>likes</th>\n",
       "      <th>time</th>\n",
       "    </tr>\n",
       "  </thead>\n",
       "  <tbody>\n",
       "    <tr>\n",
       "      <th>62</th>\n",
       "      <td>@whoreyess Goes both ways, this is entitlement...</td>\n",
       "      <td>4</td>\n",
       "      <td>2022-06-16 03:41:11+00:00</td>\n",
       "    </tr>\n",
       "    <tr>\n",
       "      <th>100</th>\n",
       "      <td>@Haezurath 29 took a data analytics bootcamp a...</td>\n",
       "      <td>4</td>\n",
       "      <td>2022-05-31 00:08:39+00:00</td>\n",
       "    </tr>\n",
       "    <tr>\n",
       "      <th>69</th>\n",
       "      <td>I like seeing everyone’s home set up, here’s m...</td>\n",
       "      <td>3</td>\n",
       "      <td>2022-06-15 22:40:05+00:00</td>\n",
       "    </tr>\n",
       "    <tr>\n",
       "      <th>18</th>\n",
       "      <td>I’m planning on getting congruent here across ...</td>\n",
       "      <td>2</td>\n",
       "      <td>2022-06-28 17:54:44+00:00</td>\n",
       "    </tr>\n",
       "    <tr>\n",
       "      <th>25</th>\n",
       "      <td>Trust me, I will never give up on my personal ...</td>\n",
       "      <td>2</td>\n",
       "      <td>2022-06-26 03:38:02+00:00</td>\n",
       "    </tr>\n",
       "  </tbody>\n",
       "</table>\n",
       "</div>"
      ],
      "text/plain": [
       "                                                tweets  likes  \\\n",
       "62   @whoreyess Goes both ways, this is entitlement...      4   \n",
       "100  @Haezurath 29 took a data analytics bootcamp a...      4   \n",
       "69   I like seeing everyone’s home set up, here’s m...      3   \n",
       "18   I’m planning on getting congruent here across ...      2   \n",
       "25   Trust me, I will never give up on my personal ...      2   \n",
       "\n",
       "                         time  \n",
       "62  2022-06-16 03:41:11+00:00  \n",
       "100 2022-05-31 00:08:39+00:00  \n",
       "69  2022-06-15 22:40:05+00:00  \n",
       "18  2022-06-28 17:54:44+00:00  \n",
       "25  2022-06-26 03:38:02+00:00  "
      ]
     },
     "execution_count": 16,
     "metadata": {},
     "output_type": "execute_result"
    }
   ],
   "source": [
    "mostlikes"
   ]
  },
  {
   "cell_type": "code",
   "execution_count": 17,
   "id": "36b9f95f",
   "metadata": {},
   "outputs": [],
   "source": [
    "import matplotlib.pyplot as plt\n",
    "import re\n",
    "import spacy\n",
    "nlp = spacy.load('en_core_web_lg')\n",
    "import seaborn as sns"
   ]
  },
  {
   "cell_type": "code",
   "execution_count": 18,
   "id": "d4a6e881",
   "metadata": {},
   "outputs": [],
   "source": [
    "list_of_sentences = [sentence for sentence in df.tweets]\n",
    "\n",
    "lines = []\n",
    "for sentence in list_of_sentences:\n",
    "    words = sentence.split()\n",
    "    for w in words:\n",
    "        lines.append(w)"
   ]
  },
  {
   "cell_type": "code",
   "execution_count": 19,
   "id": "93a46dd3",
   "metadata": {},
   "outputs": [],
   "source": [
    "lines = [re.sub(r'[^A-Za-z0-9]+', '', x) for x in lines]\n",
    "\n",
    "lines2 = []\n",
    "\n",
    "for word in lines:\n",
    "    if word != '':\n",
    "        lines2.append(word)"
   ]
  },
  {
   "cell_type": "code",
   "execution_count": 20,
   "id": "b1d9e537",
   "metadata": {},
   "outputs": [],
   "source": [
    "from nltk.stem.snowball import SnowballStemmer\n",
    "\n",
    "s_stemmer = SnowballStemmer(language='english')\n",
    "\n",
    "stem = []\n",
    "for word in lines2:\n",
    "    stem.append(s_stemmer.stem(word))"
   ]
  },
  {
   "cell_type": "code",
   "execution_count": 21,
   "id": "5c3b5608",
   "metadata": {},
   "outputs": [],
   "source": [
    "stem2 = []\n",
    "\n",
    "for word in stem:\n",
    "    if word not in nlp.Defaults.stop_words:\n",
    "        stem2.append(word)"
   ]
  },
  {
   "cell_type": "code",
   "execution_count": 22,
   "id": "ce5cc09c",
   "metadata": {},
   "outputs": [],
   "source": [
    "df2 = pd.DataFrame(stem2)\n",
    "\n",
    "df2 = df2[0].value_counts()"
   ]
  },
  {
   "cell_type": "code",
   "execution_count": 23,
   "id": "800cf6b2",
   "metadata": {},
   "outputs": [
    {
     "data": {
      "image/png": "[encoded data removed]",
      "text/plain": [
       "<Figure size 720x360 with 1 Axes>"
      ]
     },
     "metadata": {
      "needs_background": "light"
     },
     "output_type": "display_data"
    }
   ],
   "source": [
    "df2 = df2[:20,]\n",
    "plt.figure(figsize=(10,5))\n",
    "sns.barplot(x=df2.values, y=df2.index, alpha=1)\n",
    "plt.title('Top Words Overall')\n",
    "plt.ylabel('Word from Tweet', fontsize=12)\n",
    "plt.xlabel('Count of Words', fontsize=12)\n",
    "plt.show()"
   ]
  },
  {
   "cell_type": "code",
   "execution_count": 24,
   "id": "5e9e6e9c",
   "metadata": {},
   "outputs": [],
   "source": [
    "def show_ents(doc):\n",
    "    if doc.ents:\n",
    "        for ent in doc.ents:\n",
    "            print(ent.text + ' - ' + ent.label_ + ' - ' + str(spacy.explain(ent.label_)))"
   ]
  },
  {
   "cell_type": "code",
   "execution_count": 25,
   "id": "ad431fcd",
   "metadata": {},
   "outputs": [],
   "source": [
    "str1 = \" \"\n",
    "stem2 = str1.join(lines2)\n",
    "\n",
    "stem2 = nlp(stem2)\n",
    "\n",
    "label = [(X.text, X.label_) for X in stem2.ents]\n",
    "\n",
    "df6 = pd.DataFrame(label, columns = ['Word', 'Entity'])\n",
    "\n",
    "df7 = df6.where(df6['Entity'] == 'ORG')\n",
    "\n",
    "df7 = df7['Word'].value_counts()"
   ]
  },
  {
   "cell_type": "code",
   "execution_count": 26,
   "id": "b2841d5b",
   "metadata": {},
   "outputs": [
    {
     "data": {
      "image/png": "[encoded data removed]",
      "text/plain": [
       "<Figure size 720x360 with 1 Axes>"
      ]
     },
     "metadata": {
      "needs_background": "light"
     },
     "output_type": "display_data"
    }
   ],
   "source": [
    "dfx = df7[:20,]\n",
    "plt.figure(figsize=(10,5))\n",
    "sns.barplot(x=dfx.values, y=dfx.index, alpha=1)\n",
    "plt.title('Top Organizations Mentioned')\n",
    "plt.ylabel('Word from Tweet', fontsize=12)\n",
    "plt.xlabel('Count of Words', fontsize=12)\n",
    "plt.show()"
   ]
  },
  {
   "cell_type": "code",
   "execution_count": 27,
   "id": "7ef18b33",
   "metadata": {},
   "outputs": [],
   "source": [
    "str1 = \" \"\n",
    "stem2 = str1.join(lines2)\n",
    "\n",
    "stem2 = nlp(stem2)\n",
    "\n",
    "label = [(X.text, X.label_) for X in stem2.ents]\n",
    "\n",
    "df10 = pd.DataFrame(label, columns = ['Word', 'Entity'])\n",
    "\n",
    "df10 = df10.where(df10['Entity'] == 'PERSON')\n",
    "\n",
    "df11 = df10['Word'].value_counts()"
   ]
  },
  {
   "cell_type": "code",
   "execution_count": 28,
   "id": "f8ac3798",
   "metadata": {},
   "outputs": [
    {
     "data": {
      "image/png": "[encoded data removed]",
      "text/plain": [
       "<Figure size 720x360 with 1 Axes>"
      ]
     },
     "metadata": {
      "needs_background": "light"
     },
     "output_type": "display_data"
    }
   ],
   "source": [
    "dfy = df11[:20,]\n",
    "plt.figure(figsize=(10,5))\n",
    "sns.barplot(x=dfy.values, y=dfy.index, alpha=1)\n",
    "plt.title('Top Persons Mentioned')\n",
    "plt.ylabel('Word from Tweet', fontsize=12)\n",
    "plt.xlabel('Count of Words', fontsize=12)\n",
    "plt.show()"
   ]
  },
  {
   "cell_type": "code",
   "execution_count": 29,
   "id": "d40b320b",
   "metadata": {},
   "outputs": [],
   "source": [
    "###make sure you have scipy and transformers downloaded\n",
    "###using roBERTa ML model which has been created, used, and tested by Meta on 58M tweets"
   ]
  },
  {
   "cell_type": "code",
   "execution_count": 30,
   "id": "2fcb1a6f",
   "metadata": {},
   "outputs": [],
   "source": [
    "from transformers import AutoTokenizer, AutoModelForSequenceClassification\n",
    "from scipy.special import softmax"
   ]
  },
  {
   "cell_type": "code",
   "execution_count": 31,
   "id": "ce77f368",
   "metadata": {},
   "outputs": [
    {
     "name": "stdout",
     "output_type": "stream",
     "text": [
      "['RT', '@user', 'Banks', 'are', 'closed', 'until', 'Tuesday.\\n\\n#Bitcoin', 'never', 'takes', 'holidays', 'off.']\n"
     ]
    }
   ],
   "source": [
    "#grabbing tweet from key word search above \n",
    "#turning a tweet into a list of words, removing @usernames mentioned and links, then putting the tweet back together\n",
    "tweet_words = []\n",
    "for word in tweet.split(' '):\n",
    "    if word.startswith('@') and len(word)>1:\n",
    "        word = '@user'\n",
    "        \n",
    "    elif word.startswith('http'):\n",
    "        word='http'\n",
    "    tweet_words.append(word)\n",
    "    \n",
    "print(tweet_words)"
   ]
  },
  {
   "cell_type": "code",
   "execution_count": 32,
   "id": "276514e6",
   "metadata": {},
   "outputs": [
    {
     "name": "stdout",
     "output_type": "stream",
     "text": [
      "RT @user Banks are closed until Tuesday.\n",
      "\n",
      "#Bitcoin never takes holidays off.\n"
     ]
    }
   ],
   "source": [
    "tweet_proc = \" \".join(tweet_words)\n",
    "print(tweet_proc)"
   ]
  },
  {
   "cell_type": "code",
   "execution_count": 33,
   "id": "e49b9e6a",
   "metadata": {},
   "outputs": [],
   "source": [
    "#load model and tokenizer\n",
    "roberta = \"cardiffnlp/twitter-roberta-base-sentiment\"\n",
    "\n",
    "model = AutoModelForSequenceClassification.from_pretrained(roberta)\n",
    "tokenizer = AutoTokenizer.from_pretrained(roberta)\n",
    "\n",
    "labels = ['Negative', 'Neutral', 'Positive']"
   ]
  },
  {
   "cell_type": "code",
   "execution_count": 34,
   "id": "b6dfc9b5",
   "metadata": {},
   "outputs": [
    {
     "name": "stdout",
     "output_type": "stream",
     "text": [
      "{'input_ids': tensor([[    0, 13963,   787, 12105,  7489,    32,  1367,   454,   294,     4,\n",
      "         50118, 50118, 10431, 42817,   393,  1239,  6875,   160,     4,     2]]), 'attention_mask': tensor([[1, 1, 1, 1, 1, 1, 1, 1, 1, 1, 1, 1, 1, 1, 1, 1, 1, 1, 1, 1]])}\n"
     ]
    }
   ],
   "source": [
    "#sentiment analysis\n",
    "encoded_tweet = tokenizer(tweet_proc, return_tensors='pt')\n",
    "print(encoded_tweet)"
   ]
  },
  {
   "cell_type": "code",
   "execution_count": 35,
   "id": "995cae25",
   "metadata": {},
   "outputs": [
    {
     "name": "stdout",
     "output_type": "stream",
     "text": [
      "SequenceClassifierOutput(loss=None, logits=tensor([[ 0.3836,  0.9482, -1.4969]], grad_fn=<AddmmBackward0>), hidden_states=None, attentions=None)\n"
     ]
    }
   ],
   "source": [
    "output = model(encoded_tweet['input_ids'], encoded_tweet['attention_mask'])\n",
    "print(output)"
   ]
  },
  {
   "cell_type": "code",
   "execution_count": 36,
   "id": "fc8de28c",
   "metadata": {},
   "outputs": [
    {
     "name": "stdout",
     "output_type": "stream",
     "text": [
      "SequenceClassifierOutput(loss=None, logits=tensor([[ 0.3836,  0.9482, -1.4969]], grad_fn=<AddmmBackward0>), hidden_states=None, attentions=None)\n"
     ]
    }
   ],
   "source": [
    "###same as above, unpacking encoded_tweet\n",
    "output = model(**encoded_tweet)\n",
    "print(output)"
   ]
  },
  {
   "cell_type": "code",
   "execution_count": 37,
   "id": "d762918c",
   "metadata": {},
   "outputs": [
    {
     "name": "stdout",
     "output_type": "stream",
     "text": [
      "[0.3434991  0.6041116  0.05238928]\n"
     ]
    }
   ],
   "source": [
    "###converting scores to probabilties between 0 and 1\n",
    "scores = output[0][0].detach().numpy()\n",
    "scores = softmax(scores)\n",
    "print(scores)"
   ]
  },
  {
   "cell_type": "code",
   "execution_count": 38,
   "id": "50dae9d6",
   "metadata": {},
   "outputs": [
    {
     "name": "stdout",
     "output_type": "stream",
     "text": [
      "Negative 0.3434991\n",
      "Neutral 0.6041116\n",
      "Positive 0.05238928\n"
     ]
    }
   ],
   "source": [
    "###print scores\n",
    "for i in range(len(scores)):\n",
    "    l = labels[i]\n",
    "    s = scores[i]\n",
    "    print(l,s)"
   ]
  },
  {
   "cell_type": "code",
   "execution_count": 39,
   "id": "7cc65179",
   "metadata": {},
   "outputs": [
    {
     "data": {
      "text/html": [
       "<div>\n",
       "<style scoped>\n",
       "    .dataframe tbody tr th:only-of-type {\n",
       "        vertical-align: middle;\n",
       "    }\n",
       "\n",
       "    .dataframe tbody tr th {\n",
       "        vertical-align: top;\n",
       "    }\n",
       "\n",
       "    .dataframe thead th {\n",
       "        text-align: right;\n",
       "    }\n",
       "</style>\n",
       "<table border=\"1\" class=\"dataframe\">\n",
       "  <thead>\n",
       "    <tr style=\"text-align: right;\">\n",
       "      <th></th>\n",
       "      <th>tweets</th>\n",
       "    </tr>\n",
       "  </thead>\n",
       "  <tbody>\n",
       "    <tr>\n",
       "      <th>0</th>\n",
       "      <td>Cutting out the Monsters today, apparently suc...</td>\n",
       "    </tr>\n",
       "    <tr>\n",
       "      <th>1</th>\n",
       "      <td>@peteswandering Why not</td>\n",
       "    </tr>\n",
       "    <tr>\n",
       "      <th>2</th>\n",
       "      <td>@BUSHIDOBRYAN Most definitely lmk, let’s grab ...</td>\n",
       "    </tr>\n",
       "    <tr>\n",
       "      <th>3</th>\n",
       "      <td>@BUSHIDOBRYAN 2 weekends ago, new best friend ...</td>\n",
       "    </tr>\n",
       "    <tr>\n",
       "      <th>4</th>\n",
       "      <td>I_like_lists = [] https://t.co/f5Y3vJDDga</td>\n",
       "    </tr>\n",
       "    <tr>\n",
       "      <th>...</th>\n",
       "      <td>...</td>\n",
       "    </tr>\n",
       "    <tr>\n",
       "      <th>121</th>\n",
       "      <td>@LilyInJapan Dating apps blooooooooow</td>\n",
       "    </tr>\n",
       "    <tr>\n",
       "      <th>122</th>\n",
       "      <td>I might be crazy.. oh well, see y’all’s at the...</td>\n",
       "    </tr>\n",
       "    <tr>\n",
       "      <th>123</th>\n",
       "      <td>Planning on doing a Twitter sentiment analysis...</td>\n",
       "    </tr>\n",
       "    <tr>\n",
       "      <th>124</th>\n",
       "      <td>Has anyone used an ML algorithm to create sent...</td>\n",
       "    </tr>\n",
       "    <tr>\n",
       "      <th>125</th>\n",
       "      <td>Subconsciously and consciously wanting to deto...</td>\n",
       "    </tr>\n",
       "  </tbody>\n",
       "</table>\n",
       "<p>126 rows × 1 columns</p>\n",
       "</div>"
      ],
      "text/plain": [
       "                                                tweets\n",
       "0    Cutting out the Monsters today, apparently suc...\n",
       "1                              @peteswandering Why not\n",
       "2    @BUSHIDOBRYAN Most definitely lmk, let’s grab ...\n",
       "3    @BUSHIDOBRYAN 2 weekends ago, new best friend ...\n",
       "4            I_like_lists = [] https://t.co/f5Y3vJDDga\n",
       "..                                                 ...\n",
       "121              @LilyInJapan Dating apps blooooooooow\n",
       "122  I might be crazy.. oh well, see y’all’s at the...\n",
       "123  Planning on doing a Twitter sentiment analysis...\n",
       "124  Has anyone used an ML algorithm to create sent...\n",
       "125  Subconsciously and consciously wanting to deto...\n",
       "\n",
       "[126 rows x 1 columns]"
      ]
     },
     "execution_count": 39,
     "metadata": {},
     "output_type": "execute_result"
    }
   ],
   "source": [
    "###Let's apply roBERTa to several tweets and take an average of probabilities to see if my tweets so far are generally \n",
    "###Negative, Positive, or Neutral\n",
    "###Grabbing tweets from account\n",
    "\n",
    "number_of_tweets = 200\n",
    "tweets = []\n",
    "\n",
    "curs = tweepy.Cursor(api.user_timeline, screen_name=\"IkoTumangan\", tweet_mode=\"extended\").items(number_of_tweets)\n",
    "\n",
    "for w in curs:\n",
    "    tweets.append(w.full_text)\n",
    "    \n",
    "df = pd.DataFrame({'tweets':tweets})\n",
    "df"
   ]
  },
  {
   "cell_type": "code",
   "execution_count": 40,
   "id": "b2be1c57",
   "metadata": {},
   "outputs": [
    {
     "data": {
      "text/plain": [
       "['Cutting out the Monsters today, apparently sucralose and artificial sugars are culprits for neurological problems. Yikes 😳',\n",
       " '@peteswandering Why not',\n",
       " '@BUSHIDOBRYAN Most definitely lmk, let’s grab a bite!',\n",
       " '@BUSHIDOBRYAN 2 weekends ago, new best friend for now!',\n",
       " 'I_like_lists = [] https://t.co/f5Y3vJDDga',\n",
       " 'Friday vibes.. a walk by the water https://t.co/4ufN8nBzwc',\n",
       " '@4r_wines Not sure yet, maybe sight seeing with the pups. Thanks for asking!',\n",
       " 'I can’t… I’m going to the gym',\n",
       " 'The caffeine is getting me through lol ready for the long weekend!',\n",
       " 'My dog sleeps during the day, and keep me up at night. Geez 🙄 https://t.co/EA3LcIkjT0',\n",
       " 'It’s not about time, it’s about energy. People say they don’t have enough time, translation what they are really saying is they don’t have the physical or mental energy to do something. Really be honest and think about it. Peace',\n",
       " 'What is your call to action? Why is it important NOW for your customers or clients to take advantage of your GREAT idea? Let’s define this, and then run with it! \\n#copywriting #practice',\n",
       " 'What are my top 3 accomplishments in the past 3 years:\\n\\n1. Completed two online data analytics boot camps \\n2. Landed a job at a consulting firm\\n3. Reached 1.2K followed on LinkedIn \\n\\nTop 3 goals:\\n1. Pay off my debts \\n2. Get a promotion \\n3. Revamp socials and coach others',\n",
       " 'I’m grateful.. for the pain and to be on the grind',\n",
       " 'One day I’ll be unfiltered.. goodnight 💤',\n",
       " '@BUSHIDOBRYAN Cool animal!',\n",
       " '“Find the perfect balance between thought and emotions before writing anything.”\\n\\nI’m learning copywriting, and I’m going through the process of finding my sub niche and message. Meditating on the powerful  message I can wrap up and share in 1000x different ways.',\n",
       " 'Time to turn it off #unplug 💤',\n",
       " 'I’m planning on getting congruent here across platforms. I’ll be posting about tableau, Python, consulting, and self improvement. I’m practicing copyrighting and just better writing overall. Alright, let’s roll.',\n",
       " '@BUSHIDOBRYAN Where to?',\n",
       " 'I’ve simplified my life to 3 things:\\n\\n1. Focusing on career trajectory\\n2. Chill with Shala, my doggo \\n3. Exercise, stretch, meditate, and breathe deep\\n\\nThat’s it.. this is my formula for success and best kept secret',\n",
       " 'What is the lowest level of granularity? #datafam',\n",
       " 'There is no negotiating until you have real leverage. Keep working',\n",
       " 'Freedom starts in the mind',\n",
       " '@denicmarko Sublime text',\n",
       " 'Trust me, I will never give up on my personal path to growth #motivation',\n",
       " 'All I have to say is… everyone should take more responsibility and stop pointing fingers. We all pay for the consequences of our actions. Peace ☮️',\n",
       " 'This is my 100th tweet whooo hoo. Thinking of performing an nlp analysis on my own account. I’ll see if My writing style is generally positive/neutral/negative. Will relay the results 🙃',\n",
       " 'I’m needing to take some personal inventory again.. oh wait there’s nothing there lol',\n",
       " 'RT @Flashyasf: I’m fine with being alone it’s being broke I can’t fuck with',\n",
       " '@fwyanna Mad true',\n",
       " 'I feel like I’m hanging onto limbs while trying to grow roots at the same time. Anyone feel this way before? #questiontime',\n",
       " 'RT @Nissan: Now that’s a powerful #FrontEndFriday you don’t want to mess with. #Nissan #NissanTitan\\n📷: @ghosted_pro4x https://t.co/1PtwnMoU…',\n",
       " '“If I say it, I’m gonna do it..” #rule #1 for having a strong mind. No fluffy talk, if you say it, you better get it done, otherwise you a clown',\n",
       " 'RT @ailahxcsz: “r u okay?” no I need money.',\n",
       " 'Punchy punchy punchy.. make it #punchy',\n",
       " '@tril_op4 Lol this the truth',\n",
       " 'Everyone looks so concentrated on their phones, including me 😹',\n",
       " 'Time is flying, at a consistent pace. Understand time, and you’ll understand what’s possible #PositiveQuotes',\n",
       " '#random I miss the rain',\n",
       " '@fwyanna Damn straight about that 😹',\n",
       " 'Keepin my #tweets concise and punchy from now on!',\n",
       " '@julismarinho The food spread! Wow',\n",
       " 'This is a pretty cool stream of consciousness #twitter',\n",
       " 'I think I’m a focused guy, but boy am I wildly unfocused. This is a skill that I am determined to hone. The mind is like wild horses and our will to focus is our grip on the reigns. #focus',\n",
       " 'Focusing on a singular point, unwavering, for some length of time #focus #meditation',\n",
       " '@andremaciel66 @Westlake_CJW Yes, tutorial pls?',\n",
       " 'Say hi to Coney, all the adventures we will go on! 🏔 https://t.co/jLDZYt0Kb7',\n",
       " 'Same time next year, I’ll be a different man',\n",
       " 'Is “good for you” supposed to be a compliment?',\n",
       " 'I enjoy coding at night, but seriously should go to sleep 💤',\n",
       " 'Anyone want a list of their top 5 most liked tweets? I got you, just send a me a quick dm',\n",
       " 'My twitter developer account has been upgraded, I can finally pull data from twitter! Tested the code, and it works. Yay!',\n",
       " 'I want to learn #copywriting.. anyone care to teach me?',\n",
       " 'RT @YouTube: screens &lt; fresh air',\n",
       " '🛋 🥔 💤',\n",
       " '@elonmusk @BigImpactHumans 😹😹😹',\n",
       " 'Do you reach for your phone first thing in the morning?',\n",
       " 'Him: I’ve heard this one so many times…\\nHer: I mean it this time..\\nHim: Ok then, goodbye.',\n",
       " 'A sad story with no answers\\n\\nHer: what do you want?\\nHim: I don’t know, not much. I had a great time tonight \\nHer: you don’t know what you want..\\nHim: I do know what I want (staring deeply into her eyes).. but I can’t tell you, I can only show you \\nHer: I may never see you again..',\n",
       " '“Have a wonderful weekend!” from the angry octopus https://t.co/36bPeCdUNR',\n",
       " '@Outrojules One of my fav places! Such good vibes',\n",
       " 'I’m over my vices, but I’m stuck to my devices #tech',\n",
       " 'Ask yourself.. how can I deliver massive value? There lies the answer to your success',\n",
       " 'These goals scare me a bit, I must be in the right place.. I promise myself to get well and deliver',\n",
       " '@amitisinvesting Elon’s done enough, he’s good',\n",
       " '@whoreyess Goes both ways, this is entitlement at its best. The world owes no one anything',\n",
       " '@whoreyess Funny af',\n",
       " 'Sleep &amp; recharge 💤 🔌 🌙 🔋..',\n",
       " 'I understand.. pay to play',\n",
       " 'https://t.co/8EissI7VzD',\n",
       " '@BUSHIDOBRYAN Good one good one, from a fellow golfer ⛳️',\n",
       " 'Less saying and more doing.. and really don’t say anything until it’s actually done. It’s not boasting if your accomplishments are real',\n",
       " 'I like seeing everyone’s home set up, here’s mine right now. \\n\\nGrateful these days to have the things I could only wish for at one point! \\n\\nKeep going and keep iterating, it can only get better from here. Everyday is an opportunity to work on the next version 👾 https://t.co/1HrvDcyHx7',\n",
       " 'If we want something we’ve never had, we have to be willing to do things we’ve never done ☑️',\n",
       " 'Daring myself to disappear for 6 months and really work on myself',\n",
       " 'Be persistent, all things are coming!',\n",
       " 'In the depths of true calm and stillness, comes the next best idea and course of action. Just relax.. and allow the deepest nature of your being arise to the surface. ☮️',\n",
       " '@BillyM2k 😹😹😹',\n",
       " '@bass6c @bce3227 It is.. a branch of mathematics where large numbers of data are observed and analyzed, potentially to find trends or lack thereof. Nothing wrong with this question',\n",
       " 'Correction* a “person has to make” man or woman',\n",
       " 'Didn’t make the 30 day YT and IG fast. Starting over today. media is far more powerful &amp; influential than we think. Governments used to control media in order to propagate and influence public opinion. Now we have robots and AI curating our media individually to our preferences',\n",
       " 'It’s more important now than it has ever been to be conscious of our media consumption and how it affects us',\n",
       " '@BUSHIDOBRYAN Yes sir, one step and goal at a time! :)',\n",
       " 'Making a choice and sticking to it is a sacrifice, it means you’re saying no to a million other possibilities, it will be the hardest decision a man has to make',\n",
       " 'What will you do, to make your dreams come true?',\n",
       " 'Weekly tradition https://t.co/rsQ2yzaUdZ',\n",
       " 'Keepin my dreams close to the chest',\n",
       " 'https://t.co/OfBzZqnjKD',\n",
       " 'I typed tableau in the slack general chat box without any context and within seconds people were reacting positively. It was a total accident and I still can’t believe I typed one word for no reason, but people are seriously so nice and quirky at my company. In the right place.',\n",
       " 'I know how to say something that makes no sense but still makes perfect sense to myself. Do you get me? #RandomThoughts',\n",
       " 'Ready to step my game up, and keep being my best. See y’all at the 🔝',\n",
       " '@itsnikky18 Feel this so hard',\n",
       " 'Record your computer screen and yourself at the same time! (easy steps) https://t.co/9Z4cp6n0VM via @YouTube',\n",
       " 'I think a calm and serene life is such a flex',\n",
       " '@BMT094 What a spectacle!',\n",
       " '@barbypada TG I follow nature',\n",
       " '@Awedness Woooooow this!..',\n",
       " 'Hardly anyone sees the failures, the heart break, and hardships. Or will celebrate your wins unless you are paying. Keep grinding, see you at the top! Celebrating a small win today https://t.co/Tqbgix10I4',\n",
       " '@BUSHIDOBRYAN Same!!',\n",
       " '@Paco_Soriano_PS @BUSHIDOBRYAN Donde?',\n",
       " '@madzadev Snowflake ❄️',\n",
       " 'If you could run any business, knowing you couldn’t fail, what kind of product or service would you deliver?',\n",
       " 'Addicted to scrolling? Yes or no? I’ve deleted Instagram and YouTube off my phone and plan to fast for 30 days. I’m using Twitter more intentionally and I like how it isn’t primarily image based. Are you addicted to scrolling, likes, views, etc?',\n",
       " '@Haezurath 29 took a data analytics bootcamp and learned python for data wrangling, analytics, and visualization. Two yrs later working for a consulting firm!',\n",
       " '@BUSHIDOBRYAN Too sore today.. may go later',\n",
       " 'Going on an Instagram and YouTube fast for 30 days. Just deleted the apps off my phone. Less mindless scrolling! I’d like to fill the space with other activities.',\n",
       " 'Get up get moving, it’s the only thing we can do. #positivity',\n",
       " 'Dev stage https://t.co/6b0iQhPbP0',\n",
       " '@amitisinvesting Me',\n",
       " '@BUSHIDOBRYAN I like psychtogo!',\n",
       " '@BUSHIDOBRYAN Is this link advisable to click on?',\n",
       " 'Lesson from personal experience: assume everyone is a scammer unless proven otherwise..',\n",
       " 'Keep it simple.. One goal at a time. What’s your most important and pressing goal? comment below 👇',\n",
       " 'This is a slow grind.. back to chipping away at the grindstone https://t.co/rcf6Lhx9st',\n",
       " 'I’ve been granted the elevated membership to my Twitter developer account. Looks like I’ll be getting access to data.. yay https://t.co/KtEhPeEvW8',\n",
       " '@ShannyFoo @OpenAcademics @PhD_Genie I’m guess your on your way. You’ve come this far, no point stoppin now!!',\n",
       " '@BUSHIDOBRYAN You are on your way to becoming the samurai you’ve always wanted to be!! :)',\n",
       " 'If I had an unlimited stream of income and 10 milllion in assets I would… [please comment down below]👇',\n",
       " '@ShannyFoo @OpenAcademics @PhD_Genie Anyone can suck at letting go',\n",
       " 'Hope I get accepted.. I NEEEEED Data!   Looks like we need to send applications to get more access to #twitter ‘s API. Get in now while it’s still early! 😹😹 https://t.co/6AM0CuEUxh',\n",
       " '@LilyInJapan Dating apps blooooooooow',\n",
       " 'I might be crazy.. oh well, see y’all’s at the 🔝.\\n.\\n.\\nI’d like to share an original quote. No one really cares ‘what’, but the more interesting question will always be ‘how?’ @ Irving, Texas https://t.co/ArQxLgrl4p',\n",
       " 'Planning on doing a Twitter sentiment analysis project. Not sure what brands to compare just yet. Anyone have any ideas? I was thinking TSLA vs AMZN or Nissan vs Toyota. Tweet me some ideas please!',\n",
       " 'Has anyone used an ML algorithm to create sentiment values and confidence scores from some string of text? If yes, mind sharing some tips? I’m a young padawan in the data science space 👾⚛️ https://t.co/WSXUAt4HKE',\n",
       " 'Subconsciously and consciously wanting to detox from socials. While starting web scrape project I ended up having to create a Twitter account. It might not be possible to escape the matrix.. 😶 https://t.co/77RHFKHVws']"
      ]
     },
     "execution_count": 40,
     "metadata": {},
     "output_type": "execute_result"
    }
   ],
   "source": [
    "list_of_tweets = list(df['tweets'])\n",
    "list_of_tweets"
   ]
  },
  {
   "cell_type": "code",
   "execution_count": 41,
   "id": "12af456c",
   "metadata": {},
   "outputs": [
    {
     "name": "stdout",
     "output_type": "stream",
     "text": [
      "['Subconsciously', 'and', 'consciously', 'wanting', 'to', 'detox', 'from', 'socials.', 'While', 'starting', 'web', 'scrape', 'project', 'I', 'ended', 'up', 'having', 'to', 'create', 'a', 'Twitter', 'account.', 'It', 'might', 'not', 'be', 'possible', 'to', 'escape', 'the', 'matrix..', '😶', 'http']\n"
     ]
    }
   ],
   "source": [
    "###Version 1 in this model I am using roBERTa to score all the words used in all my tweets \n",
    "for tweet in list_of_tweets:\n",
    "    tweet_words = []\n",
    "    for word in tweet.split(' '):\n",
    "        if word.startswith('@') and len(word)>1:\n",
    "            word = '@user'\n",
    "        \n",
    "        elif word.startswith('http'):\n",
    "            word='http'\n",
    "        tweet_words.append(word)\n",
    "    \n",
    "print(tweet_words)"
   ]
  },
  {
   "cell_type": "code",
   "execution_count": 42,
   "id": "a65afed4",
   "metadata": {},
   "outputs": [
    {
     "name": "stdout",
     "output_type": "stream",
     "text": [
      "Subconsciously and consciously wanting to detox from socials. While starting web scrape project I ended up having to create a Twitter account. It might not be possible to escape the matrix.. 😶 http\n"
     ]
    }
   ],
   "source": [
    "tweet_proc = \" \".join(tweet_words)\n",
    "print(tweet_proc)"
   ]
  },
  {
   "cell_type": "code",
   "execution_count": 43,
   "id": "331bc98d",
   "metadata": {},
   "outputs": [
    {
     "name": "stdout",
     "output_type": "stream",
     "text": [
      "{'input_ids': tensor([[    0, 23055, 22035,   352,     8, 35561,  6923,     7, 31838,    31,\n",
      "           592,    29,     4,   616,  1158,  3748, 38527,   695,    38,  1249,\n",
      "            62,   519,     7,  1045,    10,   599,  1316,     4,    85,   429,\n",
      "            45,    28,   678,     7,  5111,     5, 36173,  7586, 17841, 19002,\n",
      "          2054,     2]]), 'attention_mask': tensor([[1, 1, 1, 1, 1, 1, 1, 1, 1, 1, 1, 1, 1, 1, 1, 1, 1, 1, 1, 1, 1, 1, 1, 1,\n",
      "         1, 1, 1, 1, 1, 1, 1, 1, 1, 1, 1, 1, 1, 1, 1, 1, 1, 1]])}\n"
     ]
    }
   ],
   "source": [
    "encoded_tweet = tokenizer(tweet_proc, return_tensors='pt')\n",
    "print(encoded_tweet)"
   ]
  },
  {
   "cell_type": "code",
   "execution_count": 44,
   "id": "d1886f49",
   "metadata": {},
   "outputs": [
    {
     "name": "stdout",
     "output_type": "stream",
     "text": [
      "SequenceClassifierOutput(loss=None, logits=tensor([[ 0.7960,  0.4159, -1.2993]], grad_fn=<AddmmBackward0>), hidden_states=None, attentions=None)\n",
      "\n",
      "\n",
      "[0.55343854 0.37846488 0.06809653]\n",
      "\n",
      "\n",
      "Negative 0.55343854\n",
      "Neutral 0.37846488\n",
      "Positive 0.068096526\n"
     ]
    }
   ],
   "source": [
    "output = model(encoded_tweet['input_ids'], encoded_tweet['attention_mask'])\n",
    "print(output)\n",
    "print(\"\\n\")\n",
    "###converting scores to probabilties between 0 and 1\n",
    "scores = output[0][0].detach().numpy()\n",
    "scores = softmax(scores)\n",
    "print(scores)\n",
    "print(\"\\n\")\n",
    "###print scores\n",
    "for i in range(len(scores)):\n",
    "    l = labels[i]\n",
    "    s = scores[i]\n",
    "    print(l,s)"
   ]
  },
  {
   "cell_type": "code",
   "execution_count": 45,
   "id": "b9701731",
   "metadata": {},
   "outputs": [],
   "source": [
    "###Let's make a wordcloud of my tweets\n",
    "import matplotlib.pyplot as plt\n",
    "from wordcloud import WordCloud, STOPWORDS\n",
    "import sys, os\n",
    "os.chdir(sys.path[0])\n",
    "\n",
    "text = tweet_proc\n",
    "stopwords = STOPWORDS"
   ]
  },
  {
   "cell_type": "code",
   "execution_count": 47,
   "id": "95518f1b",
   "metadata": {},
   "outputs": [
    {
     "data": {
      "text/plain": [
       "<wordcloud.wordcloud.WordCloud at 0x1405226d610>"
      ]
     },
     "execution_count": 47,
     "metadata": {},
     "output_type": "execute_result"
    }
   ],
   "source": [
    "wc = WordCloud(\n",
    "    background_color='white',\n",
    "    stopwords=stopwords,\n",
    "    height = 600,\n",
    "    width = 400\n",
    ")\n",
    "\n",
    "wc.generate(text)\n",
    "\n",
    "wc.to_file('wordcloud_output.png')"
   ]
  },
  {
   "cell_type": "code",
   "execution_count": 1,
   "id": "19fdaddc",
   "metadata": {},
   "outputs": [
    {
     "data": {
      "image/png": "[encoded data removed]",
      "text/plain": [
       "<IPython.core.display.Image object>"
      ]
     },
     "execution_count": 1,
     "metadata": {},
     "output_type": "execute_result"
    }
   ],
   "source": [
    "from IPython.display import Image\n",
    "Image(filename='wordcloud_output.png') "
   ]
  }
 ],
 "metadata": {
  "kernelspec": {
   "display_name": "Python 3 (ipykernel)",
   "language": "python",
   "name": "python3"
  },
  "language_info": {
   "codemirror_mode": {
    "name": "ipython",
    "version": 3
   },
   "file_extension": ".py",
   "mimetype": "text/x-python",
   "name": "python",
   "nbconvert_exporter": "python",
   "pygments_lexer": "ipython3",
   "version": "3.9.12"
  }
 },
 "nbformat": 4,
 "nbformat_minor": 5
}
